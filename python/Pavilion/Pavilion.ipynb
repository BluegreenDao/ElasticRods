{
 "cells": [
  {
   "cell_type": "markdown",
   "metadata": {},
   "source": [
    "# Simulation and Analysis of our Barcelona Pavilion"
   ]
  },
  {
   "cell_type": "code",
   "execution_count": null,
   "metadata": {},
   "outputs": [],
   "source": [
    "import sys; sys.path.append('..')\n",
    "import numpy as np, elastic_rods\n",
    "from bending_validation import suppress_stdout\n",
    "from linkage_vis import LinkageViewer\n",
    "import deployment_plots\n",
    "\n",
    "l = elastic_rods.RodLinkage('pav_final190824__flat_opt.obj')\n",
    "driver=l.centralJoint()\n",
    "\n",
    "mat = elastic_rods.RodMaterial('Rectangle', 40000, 0.3, [12,8], stiffAxis=elastic_rods.StiffAxis.D1)\n",
    "l.setMaterial(mat)\n",
    "\n",
    "l.setPerSegmentRestLength(np.loadtxt('restlen_pav_final190824__flat_opt.txt'))\n",
    "\n",
    "jdo = l.dofOffsetForJoint(driver)\n",
    "fixedVars = list(range(jdo, jdo + 6)) # fix rigid motion for a single joint\n",
    "with suppress_stdout(): elastic_rods.compute_equilibrium(l, fixedVars=fixedVars)\n",
    "    \n",
    "deployAngle = np.deg2rad(90)\n",
    "\n",
    "view = LinkageViewer(l, width=1024)\n",
    "view.show()"
   ]
  },
  {
   "cell_type": "code",
   "execution_count": null,
   "metadata": {},
   "outputs": [],
   "source": [
    "postoptStressRecorder = deployment_plots.StressRecorder()"
   ]
  },
  {
   "cell_type": "code",
   "execution_count": null,
   "metadata": {},
   "outputs": [],
   "source": [
    "mkdir -p deployment_frames"
   ]
  },
  {
   "cell_type": "code",
   "execution_count": null,
   "metadata": {},
   "outputs": [],
   "source": [
    "from open_linkage import open_linkage\n",
    "def equilibriumSolver(tgtAngle, l, opts, fv):\n",
    "    opts.beta = 1e-8\n",
    "    opts.gradTol = 1e-4\n",
    "    opts.useIdentityMetric = False\n",
    "    return elastic_rods.compute_equilibrium(l, tgtAngle, options=opts, fixedVars=fv)\n",
    "with suppress_stdout(): cr, actuationForces, tgtAngles = open_linkage(l, driver, deployAngle - l.averageJointAngle, 50, view, zPerturbationEpsilon=0, equilibriumSolver=equilibriumSolver,\n",
    "                                                                      maxNewtonIterationsIntermediate=20, verbose=10, useTargetAngleConstraint=True, outPathFormat='deployment_frames/frame_{}.msh',\n",
    "                                                                      iterationCallback=postoptStressRecorder.log);"
   ]
  },
  {
   "cell_type": "code",
   "execution_count": null,
   "metadata": {},
   "outputs": [],
   "source": [
    "deployment_plots.energy_plot(tgtAngles, cr)"
   ]
  },
  {
   "cell_type": "code",
   "execution_count": null,
   "metadata": {},
   "outputs": [],
   "source": [
    "deployment_plots.stress_plot(postoptStressRecorder)"
   ]
  },
  {
   "cell_type": "markdown",
   "metadata": {},
   "source": [
    "## Deployment gap energy analysis\n",
    "Optional analysis to quantify how \"single-DoFy\" the pavilion is. This needs to be run immediatley after (re-)running the first cell."
   ]
  },
  {
   "cell_type": "code",
   "execution_count": null,
   "metadata": {},
   "outputs": [],
   "source": [
    "import deployment_path_analysis\n",
    "dpa = deployment_path_analysis.deploymentPathAnalysis(l)\n",
    "deployment_path_analysis.validateEnergyIncrements(l, epsMax=1e-2)"
   ]
  },
  {
   "cell_type": "code",
   "execution_count": null,
   "metadata": {},
   "outputs": [],
   "source": [
    "openingAngles, stiffnessGaps = deployment_path_analysis.stiffnessGapThroughoutDeployment(l, deployAngle, 100)\n",
    "view.update()"
   ]
  },
  {
   "cell_type": "code",
   "execution_count": null,
   "metadata": {},
   "outputs": [],
   "source": [
    "from matplotlib import pyplot as plt\n",
    "plt.plot(openingAngles, stiffnessGaps)\n",
    "plt.ylabel('Relative Stiffness Gap')\n",
    "plt.xlabel('Opening Angle')\n",
    "plt.title('Pavilion Deployment Stiffness Gap')\n",
    "plt.tight_layout()\n",
    "plt.savefig('stiffness_gap_pavilion.pdf')\n",
    "plt.show()"
   ]
  },
  {
   "cell_type": "code",
   "execution_count": null,
   "metadata": {},
   "outputs": [],
   "source": [
    "np.min(stiffnessGaps)"
   ]
  },
  {
   "cell_type": "code",
   "execution_count": null,
   "metadata": {},
   "outputs": [],
   "source": [
    "stiffnessGaps[-1]"
   ]
  },
  {
   "cell_type": "code",
   "execution_count": null,
   "metadata": {},
   "outputs": [],
   "source": [
    "m = deployment_path_analysis.deploymentModeViewer(l)"
   ]
  },
  {
   "cell_type": "code",
   "execution_count": null,
   "metadata": {},
   "outputs": [],
   "source": [
    "m.setAmplitude(0.1)"
   ]
  },
  {
   "cell_type": "code",
   "execution_count": null,
   "metadata": {},
   "outputs": [],
   "source": [
    "m.show()"
   ]
  },
  {
   "cell_type": "code",
   "execution_count": null,
   "metadata": {},
   "outputs": [],
   "source": [
    "# Output fabrication data\n",
    "from linkage_utils import writeRodSegments\n",
    "writeRodSegments(l,'rodSegments_postdeploy.txt', zeroBasedIndexing=True)\n",
    "#np.savetxt('restlen_meshID_1935b524-e979-4340-9245-326f69b6eae0.txt',l.getPerSegmentRestLength())"
   ]
  },
  {
   "cell_type": "markdown",
   "metadata": {},
   "source": [
    "## Extract \"free body diagram\" for pieces of rods around joints"
   ]
  },
  {
   "cell_type": "markdown",
   "metadata": {},
   "source": [
    "We consider joints with the greatest bending stress, twisting stress, torque magnitude or force magnitude"
   ]
  },
  {
   "cell_type": "code",
   "execution_count": null,
   "metadata": {},
   "outputs": [],
   "source": [
    "import importlib, structural_analysis\n",
    "importlib.reload(structural_analysis)\n",
    "from structural_analysis import Load, isolateRodPieceAtJoint, getLoadOnEdge, freeBodyDiagramReport\n",
    "\n",
    "stretchingStresses = np.array([s.rod.stretchingStresses() for s in l.segments()])\n",
    "# Get the (min, max) bending z-stress over the cross-section.\n",
    "bendingStresses = np.array([s.rod.bendingStresses() for s in l.segments()])\n",
    "# Get the principal stresses due to the shearing caused by rod torsion.\n",
    "twistingStresses = np.array([s.rod.twistingStresses() for s in l.segments()])"
   ]
  },
  {
   "cell_type": "code",
   "execution_count": null,
   "metadata": {},
   "outputs": [],
   "source": [
    "np.max(bendingStresses[:,:, 0]), np.max(twistingStresses[:, :]), np.max(stretchingStresses[:, :])"
   ]
  },
  {
   "cell_type": "code",
   "execution_count": null,
   "metadata": {},
   "outputs": [],
   "source": [
    "sojr = structural_analysis.stressesOnJointRegions(l, edgeDist=1)"
   ]
  },
  {
   "cell_type": "code",
   "execution_count": null,
   "metadata": {},
   "outputs": [],
   "source": [
    "def argmax2d(a): return np.unravel_index(a.argmax(), a.shape)\n",
    "def argmin2d(a): return np.unravel_index(a.argmin(), a.shape)\n",
    "argmax2d(sojr[0]), argmin2d(sojr[1]), argmax2d(sojr[2])"
   ]
  },
  {
   "cell_type": "code",
   "execution_count": null,
   "metadata": {},
   "outputs": [],
   "source": [
    "freeBodyDiagramReport(l, 50, 0)"
   ]
  },
  {
   "cell_type": "code",
   "execution_count": null,
   "metadata": {},
   "outputs": [],
   "source": [
    "dc = l.segment(0).rod.deformedConfiguration()"
   ]
  },
  {
   "cell_type": "code",
   "execution_count": null,
   "metadata": {},
   "outputs": [],
   "source": [
    "dc.materialFrame[0].d1"
   ]
  },
  {
   "cell_type": "code",
   "execution_count": null,
   "metadata": {},
   "outputs": [],
   "source": [
    "freeBodyDiagramReport(l, 111, 1)"
   ]
  },
  {
   "cell_type": "code",
   "execution_count": null,
   "metadata": {},
   "outputs": [],
   "source": [
    "(np.argmax(np.linalg.norm(l.rivetNetForceAndTorques()[:, 0:3], axis=1)),\n",
    " np.argmax(np.linalg.norm(l.rivetNetForceAndTorques()[:, 3:6], axis=1)))"
   ]
  },
  {
   "cell_type": "code",
   "execution_count": null,
   "metadata": {},
   "outputs": [],
   "source": [
    "freeBodyDiagramReport(l, 45, 0)"
   ]
  },
  {
   "cell_type": "code",
   "execution_count": null,
   "metadata": {},
   "outputs": [],
   "source": [
    "freeBodyDiagramReport(l, 105, 0)"
   ]
  },
  {
   "cell_type": "markdown",
   "metadata": {},
   "source": [
    "## Compare against pre-optimized design"
   ]
  },
  {
   "cell_type": "code",
   "execution_count": null,
   "metadata": {},
   "outputs": [],
   "source": [
    "deployAngle = 1.570800"
   ]
  },
  {
   "cell_type": "code",
   "execution_count": null,
   "metadata": {},
   "outputs": [],
   "source": [
    "l_preopt = elastic_rods.RodLinkage('../examples/data/20190814_145136_linemodel.obj', 20)\n",
    "driver_preopt = l_preopt.centralJoint()\n",
    "\n",
    "mat = elastic_rods.RodMaterial('Rectangle', 40000, 0.3, [12,8], stiffAxis=elastic_rods.StiffAxis.D1)\n",
    "l_preopt.setMaterial(mat)\n",
    "\n",
    "jdo_preopt = l_preopt.dofOffsetForJoint(driver)\n",
    "fixedVars_preopt = list(range(jdo_preopt, jdo_preopt + 6)) # fix rigid motion for a single joint\n",
    "with suppress_stdout(): elastic_rods.restlen_solve(l_preopt)\n",
    "with suppress_stdout(): elastic_rods.compute_equilibrium(l_preopt, fixedVars=fixedVars_preopt)\n",
    "\n",
    "view_preopt = LinkageViewer(l_preopt, width=1024)\n",
    "view_preopt.show()"
   ]
  },
  {
   "cell_type": "code",
   "execution_count": null,
   "metadata": {},
   "outputs": [],
   "source": [
    "preoptStressRecorder = deployment_plots.StressRecorder()\n",
    "with suppress_stdout(): preopt_cr, preopt_actuationForces, preopt_tgtAngles = open_linkage(l_preopt, driver_preopt, deployAngle - l_preopt.averageJointAngle, 50, view_preopt, zPerturbationEpsilon=0, equilibriumSolver=equilibriumSolver, maxNewtonIterationsIntermediate=20, verbose=10, useTargetAngleConstraint=True, iterationCallback=preoptStressRecorder.log);"
   ]
  },
  {
   "cell_type": "code",
   "execution_count": null,
   "metadata": {},
   "outputs": [],
   "source": [
    "deployment_plots.energy_plot(preopt_tgtAngles, preopt_cr)"
   ]
  },
  {
   "cell_type": "code",
   "execution_count": null,
   "metadata": {},
   "outputs": [],
   "source": [
    "deployment_plots.stress_plot(preoptStressRecorder)"
   ]
  },
  {
   "cell_type": "code",
   "execution_count": null,
   "metadata": {},
   "outputs": [],
   "source": [
    "preoptStressRecorder.actuationAngle[29]"
   ]
  },
  {
   "cell_type": "code",
   "execution_count": null,
   "metadata": {},
   "outputs": [],
   "source": [
    "from matplotlib import pyplot as plt\n",
    "deployment_plots.bending_stress_comparison_plot(preoptStressRecorder, 'Pre-optimization', postoptStressRecorder, 'Post-optimization')\n",
    "plt.title('Bending Stress During Deployment')\n",
    "plt.tight_layout()\n",
    "plt.savefig('bending_stress.pdf')"
   ]
  },
  {
   "cell_type": "code",
   "execution_count": null,
   "metadata": {},
   "outputs": [],
   "source": [
    "import importlib\n",
    "importlib.reload(deployment_plots)\n",
    "deployment_plots.twisting_stress_comparison_plot(preoptStressRecorder, 'Pre-optimization', postoptStressRecorder, 'Post-optimization')"
   ]
  },
  {
   "cell_type": "code",
   "execution_count": null,
   "metadata": {},
   "outputs": [],
   "source": [
    "deployment_plots.energy_comparison_plot(tgtAngles, cr, 'Post-optimization', preopt_tgtAngles, preopt_cr, 'Pre-optimization')"
   ]
  },
  {
   "cell_type": "markdown",
   "metadata": {},
   "source": [
    "## Analyze Hessian spectrum"
   ]
  },
  {
   "cell_type": "code",
   "execution_count": null,
   "metadata": {},
   "outputs": [],
   "source": [
    "import compute_vibrational_modes\n",
    "fixedVarsWithoutActuator = fixedVars[:]\n",
    "lambdas, modes = compute_vibrational_modes.compute_vibrational_modes(l, fixedVars=[], mtype=compute_vibrational_modes.MassMatrixType.FULL, n=16, sigma=-1e-6)\n",
    "\n",
    "import mode_viewer, importlib\n",
    "importlib.reload(mode_viewer);\n",
    "mview = mode_viewer.ModeViewer(l, modes, lambdas, amplitude=5.0)\n",
    "mview.show()"
   ]
  }
 ],
 "metadata": {
  "kernelspec": {
   "display_name": "Python 3",
   "language": "python",
   "name": "python3"
  },
  "language_info": {
   "codemirror_mode": {
    "name": "ipython",
    "version": 3
   },
   "file_extension": ".py",
   "mimetype": "text/x-python",
   "name": "python",
   "nbconvert_exporter": "python",
   "pygments_lexer": "ipython3",
   "version": "3.7.5"
  }
 },
 "nbformat": 4,
 "nbformat_minor": 4
}
