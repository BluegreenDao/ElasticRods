{
 "cells": [
  {
   "cell_type": "code",
   "execution_count": null,
   "metadata": {},
   "outputs": [],
   "source": [
    "import sys; sys.path.append('..')\n",
    "from bending_validation import *\n",
    "import elastic_rods, sparse_matrices, pickle, scipy, linkage_vis, vis, numpy as np, time\n",
    "\n",
    "r, direction = pickle.load(open('data/finite_transport_example.pkl', 'rb'))\n",
    "dc = r.deformedConfiguration()\n",
    "P = np.array(r.deformedPoints())\n",
    "\n",
    "view = linkage_vis.LinkageViewer(r, width=800, height=600)\n",
    "view.ghostColor = 'lightgray'\n",
    "cview = linkage_vis.CenterlineViewer(r, width=800, height=600, superView=view)\n",
    "view.avoidRedrawFlicker = cview.avoidRedrawFlicker = True\n",
    "cview.showPoints()\n",
    "def updateViews():\n",
    "    dc = r.deformedConfiguration()\n",
    "    view.update(transparent='true')\n",
    "    cview.update(vectorField=np.array([f.d1 for f in dc.referenceDirectors]))\n",
    "updateViews()\n",
    "view.show()"
   ]
  },
  {
   "cell_type": "code",
   "execution_count": null,
   "metadata": {},
   "outputs": [],
   "source": [
    "#cview.update(vectorField=np.array([f.d1 for f in dc.sourceReferenceDirectors]))\n",
    "cview.update(vectorField=np.array(dc.sourceTangent))"
   ]
  },
  {
   "cell_type": "code",
   "execution_count": null,
   "metadata": {
    "scrolled": true
   },
   "outputs": [],
   "source": [
    "def randomUnitVector():\n",
    "    while True:\n",
    "        v = np.random.uniform(low=-1, high=1, size=3)\n",
    "        n = np.linalg.norm(v)\n",
    "        if (n > 1 or n < 1e-7): continue\n",
    "        return v / n\n",
    "rotation = scipy.spatial.transform.Rotation.from_rotvec\n",
    "def rotateLastEdge(magnitude, direction = None):\n",
    "    if (direction is None): direction = randomUnitVector()\n",
    "    defP = P.copy()\n",
    "    x1 = P[1, :]\n",
    "    e = P[2, :] - x1\n",
    "    defP[2, :] = x1 + rotation(magnitude * direction).apply(e)\n",
    "    r.setDeformedConfiguration(defP, r.thetas())\n",
    "    updateViews()\n",
    "\n",
    "import time\n",
    "while True:\n",
    "    for alpha in np.linspace(0, 2 * np.pi, 100):\n",
    "        rotateLastEdge(0.1 * np.sin(alpha), direction)\n",
    "        time.sleep(0.02)"
   ]
  },
  {
   "cell_type": "code",
   "execution_count": null,
   "metadata": {},
   "outputs": [],
   "source": [
    "vf = vis.fields.VectorField(cview.mesh, r.gradient()[0:r.thetaOffset()].reshape((-1, 3)), vmin=0, vmax=2.66025584e-05)\n",
    "cview.update(vectorField=vf)"
   ]
  },
  {
   "cell_type": "code",
   "execution_count": null,
   "metadata": {},
   "outputs": [],
   "source": [
    "g_finite_xport = r.gradient()\n",
    "g_inf_xport = r.gradient(updatedSource=True)"
   ]
  },
  {
   "cell_type": "code",
   "execution_count": null,
   "metadata": {},
   "outputs": [],
   "source": [
    "r.updateSourceFrame()"
   ]
  },
  {
   "cell_type": "code",
   "execution_count": null,
   "metadata": {},
   "outputs": [],
   "source": [
    "r.gradient() - g_finite_xport"
   ]
  },
  {
   "cell_type": "code",
   "execution_count": null,
   "metadata": {},
   "outputs": [],
   "source": [
    "r.gradient() - g_inf_xport"
   ]
  }
 ],
 "metadata": {
  "kernelspec": {
   "display_name": "Python 3",
   "language": "python",
   "name": "python3"
  },
  "language_info": {
   "codemirror_mode": {
    "name": "ipython",
    "version": 3
   },
   "file_extension": ".py",
   "mimetype": "text/x-python",
   "name": "python",
   "nbconvert_exporter": "python",
   "pygments_lexer": "ipython3",
   "version": "3.7.5"
  }
 },
 "nbformat": 4,
 "nbformat_minor": 4
}
