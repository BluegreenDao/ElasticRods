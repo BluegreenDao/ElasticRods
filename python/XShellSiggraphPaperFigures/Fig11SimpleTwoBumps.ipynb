{
 "cells": [
  {
   "cell_type": "code",
   "execution_count": null,
   "metadata": {},
   "outputs": [],
   "source": [
    "import sys; sys.path.append('..')\n",
    "import numpy as np, elastic_rods\n",
    "from bending_validation import suppress_stdout\n",
    "from linkage_vis import LinkageViewer\n",
    "\n",
    "l = elastic_rods.RodLinkage('../examples/optimized/data/simple_two_bumps_3/flat_opt.msh')\n",
    "driver=l.centralJoint()\n",
    "\n",
    "mat = elastic_rods.RodMaterial('Rectangle', 2000, 0.3, [15.3,8.1], stiffAxis=elastic_rods.StiffAxis.D1)\n",
    "l.setMaterial(mat)\n",
    "\n",
    "l.setPerSegmentRestLength(np.loadtxt('../examples/optimized/data/simple_two_bumps_3/design_parameters.txt'))\n",
    "\n",
    "jdo = l.dofOffsetForJoint(driver)\n",
    "fixedVars = list(range(jdo, jdo + 6)) # fix rigid motion for a single joint\n",
    "# fixedVars.append(jdo + 6) # constrain angle at the driving joint\n",
    "with suppress_stdout(): elastic_rods.compute_equilibrium(l, fixedVars=fixedVars)\n",
    "\n",
    "view = LinkageViewer(l, width=1024)\n",
    "view.show()"
   ]
  },
  {
   "cell_type": "code",
   "execution_count": null,
   "metadata": {},
   "outputs": [],
   "source": [
    "from open_linkage import open_linkage\n",
    "def equilibriumSolver(tgtAngle, l, opts, fv):\n",
    "    opts.gradTol = 1e-4\n",
    "    opts.useIdentityMetric = False\n",
    "    return elastic_rods.compute_equilibrium(l, tgtAngle, options=opts, fixedVars=fv)\n",
    "open_linkage(l, driver, np.deg2rad(76) - l.averageJointAngle, 50, view, zPerturbationEpsilon=0, equilibriumSolver=equilibriumSolver, maxNewtonIterationsIntermediate=20, verbose=10, useTargetAngleConstraint=True);\n",
    "# open_linkage(l, driver, np.deg2rad(15) - l.averageJointAngle, 50, view, zPerturbationEpsilon=0, equilibriumSolver=equilibriumSolver, maxNewtonIterationsIntermediate=20, verbose=10, useTargetAngleConstraint=True);"
   ]
  },
  {
   "cell_type": "code",
   "execution_count": null,
   "metadata": {},
   "outputs": [],
   "source": [
    "# Output fabrication data\n",
    "from linkage_utils import writeRodSegments\n",
    "writeRodSegments(l,'rod_segments_meshID_1d1c1dc9-4638-474e-8f7f-6b95998b8a32.txt', zeroBasedIndexing=True)\n",
    "np.savetxt('restlen_meshID_1d1c1dc9-4638-474e-8f7f-6b95998b8a32.txt',l.getPerSegmentRestLength())"
   ]
  },
  {
   "cell_type": "code",
   "execution_count": null,
   "metadata": {},
   "outputs": [],
   "source": [
    "# Output rendering data (rest configuration)\n",
    "writeRodSegments(l,'rod_segments_2bumps_rest.txt', zeroBasedIndexing=True)\n",
    "np.savetxt('restlen_2bumps_rest.txt',l.getPerSegmentRestLength())\n",
    "np.savetxt('normals_2bumps_rest.txt', np.array([j.normal for j in l.joints()]))\n",
    "l.writeLinkageDebugData('deployed_2bumps_rest.msh')"
   ]
  },
  {
   "cell_type": "code",
   "execution_count": null,
   "metadata": {},
   "outputs": [],
   "source": [
    "import compute_vibrational_modes\n",
    "fixedVarsWithoutActuator = fixedVars[:-1]\n",
    "# lambdas, modes = compute_vibrational_modes.compute_vibrational_modes(l, fixedVars=fixedVarsWithoutActuator, mtype=compute_vibrational_modes.MassMatrixType.FULL)\n",
    "lambdas, modes = compute_vibrational_modes.compute_vibrational_modes(l, fixedVars=[], mtype=compute_vibrational_modes.MassMatrixType.FULL, n=16, sigma=-1e-2)\n",
    "\n",
    "import mode_viewer, importlib\n",
    "importlib.reload(mode_viewer);\n",
    "mview = mode_viewer.ModeViewer(l, modes, lambdas, amplitude=5.0)\n",
    "mview.show()"
   ]
  },
  {
   "cell_type": "code",
   "execution_count": null,
   "metadata": {},
   "outputs": [],
   "source": [
    "# Output rendering data (deployed configuration)\n",
    "writeRodSegments(l,'rod_segments_2bumps_95.txt', zeroBasedIndexing=True)\n",
    "np.savetxt('restlen_2bumps_95.txt',l.getPerSegmentRestLength())\n",
    "np.savetxt('normals_2bumps_95.txt', np.array([j.normal for j in l.joints()]))\n",
    "l.writeLinkageDebugData('deployed_2bumps_95.msh')"
   ]
  }
 ],
 "metadata": {
  "kernelspec": {
   "display_name": "Python 3",
   "language": "python",
   "name": "python3"
  },
  "language_info": {
   "codemirror_mode": {
    "name": "ipython",
    "version": 3
   },
   "file_extension": ".py",
   "mimetype": "text/x-python",
   "name": "python",
   "nbconvert_exporter": "python",
   "pygments_lexer": "ipython3",
   "version": "3.7.5"
  }
 },
 "nbformat": 4,
 "nbformat_minor": 4
}
