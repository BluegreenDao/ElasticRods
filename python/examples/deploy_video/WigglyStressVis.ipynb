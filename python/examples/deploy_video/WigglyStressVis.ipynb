{
 "cells": [
  {
   "cell_type": "code",
   "execution_count": 2,
   "metadata": {},
   "outputs": [
    {
     "data": {
      "application/vnd.jupyter.widget-view+json": {
       "model_id": "47334a8826e0417e91df90afa9c32c0c",
       "version_major": 2,
       "version_minor": 0
      },
      "text/plain": [
       "Renderer(camera=PerspectiveCamera(aspect=2.0, children=(DirectionalLight(color='white', intensity=0.6, positio…"
      ]
     },
     "metadata": {},
     "output_type": "display_data"
    }
   ],
   "source": [
    "import sys; sys.path.append('../..')\n",
    "import numpy as np, elastic_rods\n",
    "from bending_validation import suppress_stdout\n",
    "from linkage_vis import LinkageViewer\n",
    "\n",
    "l = elastic_rods.RodLinkage('../optimized/data/wiggly_banana_preopt/deployed_opt.msh')\n",
    "lflat = elastic_rods.RodLinkage('../optimized/data/wiggly_banana_preopt/flat_opt.msh')\n",
    "mat = elastic_rods.RodMaterial('+', 20000, 0.3, [5.0, 5.0, 0.2, 0.2], stiffAxis=elastic_rods.StiffAxis.D1)\n",
    "l.setMaterial(mat)\n",
    "lflat.setMaterial(mat)\n",
    "\n",
    "l.setPerSegmentRestLength(np.loadtxt('../optimized/data/wiggly_banana_preopt/design_parameters.txt'))\n",
    "lflat.setPerSegmentRestLength(np.loadtxt('../optimized/data/wiggly_banana_preopt/design_parameters.txt'))\n",
    "\n",
    "jdo = l.dofOffsetForJoint(l.centralJoint())\n",
    "fixedVars = list(range(jdo, jdo + 6)) # fix rigid motion for a single joint\n",
    "\n",
    "with suppress_stdout(): elastic_rods.compute_equilibrium(lflat, 0.108574, fixedVars=fixedVars)\n",
    "with suppress_stdout(): elastic_rods.compute_equilibrium(l, np.deg2rad(80), fixedVars=fixedVars)\n",
    "    \n",
    "view = LinkageViewer(l, width=1024)\n",
    "view.setCameraParams(((0.4075185454716348, 3.1892642201046715, 0.3099480992441177),\n",
    " (0.15364528336486324, 0.2839547329660347, 0.9464474821805594),\n",
    " (0.0, 0.0, 0.0)))\n",
    "view.show()"
   ]
  },
  {
   "cell_type": "code",
   "execution_count": 3,
   "metadata": {},
   "outputs": [
    {
     "data": {
      "application/vnd.jupyter.widget-view+json": {
       "model_id": "886da1854d674d81963e8d9b5ad4ba99",
       "version_major": 2,
       "version_minor": 0
      },
      "text/plain": [
       "Renderer(camera=PerspectiveCamera(aspect=2.0, children=(DirectionalLight(color='white', intensity=0.6, positio…"
      ]
     },
     "metadata": {},
     "output_type": "display_data"
    }
   ],
   "source": [
    "import sys; sys.path.append('../..')\n",
    "import numpy as np, elastic_rods\n",
    "from bending_validation import suppress_stdout\n",
    "from linkage_vis import LinkageViewer\n",
    "\n",
    "lopt = elastic_rods.RodLinkage('../optimized/data/wiggly_banana_5/deployed_opt.msh')\n",
    "loptFlat = elastic_rods.RodLinkage('../optimized/data/wiggly_banana_5/flat_opt.msh')\n",
    "lopt.setMaterial(mat)\n",
    "loptFlat.setMaterial(mat)\n",
    "\n",
    "lopt.setPerSegmentRestLength(np.loadtxt('../optimized/data/wiggly_banana_5/design_parameters.txt'))\n",
    "loptFlat.setPerSegmentRestLength(np.loadtxt('../optimized/data/wiggly_banana_5/design_parameters.txt'))\n",
    "\n",
    "with suppress_stdout(): elastic_rods.compute_equilibrium(loptFlat, 0.108574, fixedVars=fixedVars)\n",
    "with suppress_stdout(): elastic_rods.compute_equilibrium(lopt, np.deg2rad(80), fixedVars=fixedVars)\n",
    "    \n",
    "viewopt = LinkageViewer(lopt, width=1024)\n",
    "viewopt.setCameraParams(((0.4075185454716348, 3.1892642201046715, 0.3099480992441177),\n",
    " (0.15364528336486324, 0.2839547329660347, 0.9464474821805594),\n",
    " (0.0, 0.0, 0.0)))\n",
    "viewopt.show()"
   ]
  },
  {
   "cell_type": "code",
   "execution_count": 10,
   "metadata": {},
   "outputs": [],
   "source": [
    "stressMax = max(max(max(l.rodStresses()[1])), max(max(lopt.rodStresses()[1])))"
   ]
  },
  {
   "cell_type": "code",
   "execution_count": 14,
   "metadata": {},
   "outputs": [],
   "source": [
    "import write_render_files\n",
    "import os\n",
    "deploySeconds = 10\n",
    "framesPerSecond = 30\n",
    "frames = deploySeconds * framesPerSecond\n",
    "outdir = 'wiggly_stress_frames'\n",
    "try: os.mkdir(outdir)\n",
    "except: pass\n",
    "externalForcesPreopt = l.gradient()\n",
    "externalForcesOpt = lopt.gradient()\n",
    "for i, forceScale in enumerate(np.linspace(1.0, 0.0, frames)):\n",
    "    framedir = \"{}/{}\".format(outdir, i)\n",
    "    with suppress_stdout(): elastic_rods.compute_equilibrium(l, forceScale * externalForcesPreopt, fixedVars=fixedVars)\n",
    "    with suppress_stdout(): elastic_rods.compute_equilibrium(lopt, forceScale * externalForcesOpt, fixedVars=fixedVars)\n",
    "    write_render_files.writeRenderFiles(l, framedir, 'wiggly_preopt', stressMin = 0, stressMax = stressMax)\n",
    "    write_render_files.writeRenderFiles(l, framedir, 'wiggly_opt', stressMin = 0, stressMax = stressMax)"
   ]
  }
 ],
 "metadata": {
  "kernelspec": {
   "display_name": "Python 3",
   "language": "python",
   "name": "python3"
  },
  "language_info": {
   "codemirror_mode": {
    "name": "ipython",
    "version": 3
   },
   "file_extension": ".py",
   "mimetype": "text/x-python",
   "name": "python",
   "nbconvert_exporter": "python",
   "pygments_lexer": "ipython3",
   "version": "3.6.7"
  }
 },
 "nbformat": 4,
 "nbformat_minor": 2
}
