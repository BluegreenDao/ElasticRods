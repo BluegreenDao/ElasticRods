{
 "cells": [
  {
   "cell_type": "code",
   "execution_count": 1,
   "metadata": {},
   "outputs": [],
   "source": [
    "from bending_validation import *\n",
    "import elastic_rods, sparse_matrices, pickle, scipy, linkage_vis, numpy as np, time"
   ]
  },
  {
   "cell_type": "code",
   "execution_count": 2,
   "metadata": {},
   "outputs": [
    {
     "data": {
      "application/vnd.jupyter.widget-view+json": {
       "model_id": "01b734a27dd04edd850c85097e9fc2b7",
       "version_major": 2,
       "version_minor": 0
      },
      "text/plain": [
       "Renderer(camera=PerspectiveCamera(aspect=1.7066666666666668, children=(PointLight(color='white', intensity=0.6…"
      ]
     },
     "metadata": {},
     "output_type": "display_data"
    }
   ],
   "source": [
    "L, a, n = 1, 0.1, 51\n",
    "perturb = False\n",
    "r, fixedVars = bendingTestRod(L, a, n)\n",
    "pts, thetas = initialConfiguration(L, a, n, perturb)\n",
    "thetas = np.ones(n - 1) * (np.pi / 2)\n",
    "r.setDeformedConfiguration(pts, thetas)\n",
    "\n",
    "view = linkage_vis.LinkageViewer(r, width=1024, height=600)\n",
    "view.setCameraParams(((0.8471149305506829, 2.303483674764291, 0.4579086561101697),\n",
    " (-0.05274977528957473, 0.1226800644593855, 0.9910434213449677),\n",
    " (-0.41643357695558714, 0.21249216220933723, -0.36668979830898635)))\n",
    "view.show()"
   ]
  },
  {
   "cell_type": "code",
   "execution_count": 3,
   "metadata": {},
   "outputs": [],
   "source": [
    "view.averagedMaterialFrames = not view.averagedMaterialFrames"
   ]
  },
  {
   "cell_type": "code",
   "execution_count": 4,
   "metadata": {},
   "outputs": [],
   "source": [
    "# elastic_rods.compute_equilibrium_knitro(r, verbose=True, fixedVars=fixedVars, niter=10)\n",
    "with suppress_stdout(): elastic_rods.compute_equilibrium(r, fixedVars=fixedVars)\n",
    "view.update()"
   ]
  },
  {
   "cell_type": "code",
   "execution_count": 8,
   "metadata": {},
   "outputs": [],
   "source": [
    "view.update(scalarField=r.maxBendingStresses())"
   ]
  },
  {
   "cell_type": "code",
   "execution_count": 6,
   "metadata": {},
   "outputs": [
    {
     "name": "stdout",
     "output_type": "stream",
     "text": [
      "m: 196  nnz: 3426\n"
     ]
    },
    {
     "data": {
      "application/vnd.jupyter.widget-view+json": {
       "model_id": "4e0968dca4344e359b4d7e25d9b644d8",
       "version_major": 2,
       "version_minor": 0
      },
      "text/plain": [
       "VBox(children=(Renderer(camera=PerspectiveCamera(children=(PointLight(color='white', intensity=0.6, position=(…"
      ]
     },
     "metadata": {},
     "output_type": "display_data"
    }
   ],
   "source": [
    "from compute_vibrational_modes import compute_vibrational_modes, MassMatrixType\n",
    "import mode_viewer\n",
    "\n",
    "lambdas, modes = compute_vibrational_modes(r, fixedVars)\n",
    "mview = mode_viewer.ModeViewer(r, modes, lambdas)\n",
    "mview.show()"
   ]
  },
  {
   "cell_type": "code",
   "execution_count": 7,
   "metadata": {},
   "outputs": [
    {
     "data": {
      "application/vnd.jupyter.widget-view+json": {
       "model_id": "b50b4046ebea4ad7b05c4f8be9c2e70e",
       "version_major": 2,
       "version_minor": 0
      },
      "text/plain": [
       "interactive(children=(FloatSlider(value=0.5, description='a', max=1.0, min=0.01, step=0.01), IntSlider(value=4…"
      ]
     },
     "metadata": {},
     "output_type": "display_data"
    }
   ],
   "source": [
    "from ipywidgets import interact, interactive, fixed, interact_manual\n",
    "import ipywidgets as widgets\n",
    "iplot = interactive(runTestVisualization,\n",
    "                    L=fixed(1),\n",
    "                    a=widgets.FloatSlider(min=0.01, max=1, value=0.5, step=0.01),\n",
    "                    numVertices=widgets.IntSlider(min=3,max=100,step=2,value=41),\n",
    "                    gradTol=fixed(1e-12))\n",
    "iplot.children[-1].layout.height = '450px'\n",
    "display(iplot)"
   ]
  },
  {
   "cell_type": "code",
   "execution_count": null,
   "metadata": {},
   "outputs": [],
   "source": [
    "t = time.time()\n",
    "totalIters = convergenceTest(0.6, 1000, 1e-11)\n",
    "print(time.time() - t, totalIters)"
   ]
  }
 ],
 "metadata": {
  "kernelspec": {
   "display_name": "Python 3",
   "language": "python",
   "name": "python3"
  },
  "language_info": {
   "codemirror_mode": {
    "name": "ipython",
    "version": 3
   },
   "file_extension": ".py",
   "mimetype": "text/x-python",
   "name": "python",
   "nbconvert_exporter": "python",
   "pygments_lexer": "ipython3",
   "version": "3.7.5"
  }
 },
 "nbformat": 4,
 "nbformat_minor": 4
}
