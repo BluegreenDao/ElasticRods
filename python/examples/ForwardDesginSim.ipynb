{
 "cells": [
  {
   "cell_type": "code",
   "execution_count": 1,
   "metadata": {},
   "outputs": [
    {
     "data": {
      "application/vnd.jupyter.widget-view+json": {
       "model_id": "578e0dc8524e4c0baa4575184903f5e3",
       "version_major": 2,
       "version_minor": 0
      },
      "text/plain": [
       "Renderer(camera=PerspectiveCamera(aspect=2.0, children=(DirectionalLight(color='white', intensity=0.6, positio…"
      ]
     },
     "metadata": {},
     "output_type": "display_data"
    }
   ],
   "source": [
    "import sys; sys.path.append('..')\n",
    "import numpy as np, elastic_rods\n",
    "from bending_validation import suppress_stdout\n",
    "from linkage_vis import LinkageViewer\n",
    "elastic_rods.set_max_num_tbb_threads(4)\n",
    "l = elastic_rods.RodLinkage('../../examples/florin/20181008_103824_meshID_95a3e4ba-e509-432a-9442-738b53a06248.obj', 5)\n",
    "driver = 47\n",
    "mat = elastic_rods.RodMaterial('+', 2000, 0.3, [2.0, 2.0, 0.2, 0.2])\n",
    "l.setMaterial(mat)\n",
    "\n",
    "with suppress_stdout(): elastic_rods.restlen_solve(l)\n",
    "jdo = l.dofOffsetForJoint(driver)\n",
    "\n",
    "view = LinkageViewer(l, width=1024)\n",
    "view.setCameraParams(((-2.200522340164312, 0.5782056167253651, -0.7549139983294457),\n",
    " (-0.02031290489160542, -0.03507141600564204, -0.999178353285445),\n",
    " (-0.17091934654983643, 0.17173250980468135, 0.09235104577312339)))\n",
    "view.show()"
   ]
  },
  {
   "cell_type": "code",
   "execution_count": 2,
   "metadata": {},
   "outputs": [],
   "source": [
    "l.writeLinkageDebugData('debug.msh')"
   ]
  },
  {
   "cell_type": "code",
   "execution_count": 5,
   "metadata": {},
   "outputs": [],
   "source": [
    "l.saveVisualizationGeometry('two_bumps_closed.obj')"
   ]
  },
  {
   "cell_type": "code",
   "execution_count": 3,
   "metadata": {},
   "outputs": [],
   "source": [
    "from linkage_utils import writeRodSegments\n",
    "writeRodSegments(l, 'rod_segments.txt', zeroBasedIndexing=False)"
   ]
  },
  {
   "cell_type": "code",
   "execution_count": 2,
   "metadata": {},
   "outputs": [
    {
     "name": "stdout",
     "output_type": "stream",
     "text": [
      "0\t0.886261\t0.234163\t0.234163\t0.0625\t0\n",
      "1\t0.799898\t2.42588\t2.42588\t1\t0\n",
      "2\t0.706927\t6.36529\t6.36529\t1\t0\n",
      "3\t0.540713\t1.24332\t1.24332\t0.5\t0\n",
      "4\t0.487166\t3.30869\t3.30869\t1\t0\n",
      "5\t0.408138\t1.77182\t1.77182\t1\t0\n",
      "6\t0.401263\t5.51536\t5.51536\t1\t0\n",
      "7\t0.290235\t1.81085\t1.81085\t0.5\t0\n",
      "8\t0.27851\t3.92343\t3.92343\t1\t0\n",
      "9\t0.208863\t1.11021\t1.11021\t0.5\t0\n",
      "10\t0.192415\t2.57785\t2.57785\t1\t0\n",
      "11\t0.152093\t1.25928\t1.25928\t0.5\t0\n",
      "12\t0.134504\t1.47776\t1.47776\t1\t0\n",
      "13\t0.110587\t1.12052\t1.12052\t1\t0\n",
      "14\t0.0945185\t1.60288\t1.60288\t1\t0\n",
      "15\t0.0767771\t1.08254\t1.08254\t1\t0\n",
      "16\t0.0683544\t1.51294\t1.51294\t1\t0\n",
      "17\t0.0572806\t1.11465\t1.11465\t1\t0\n",
      "18\t0.0494807\t0.61751\t0.61751\t1\t0\n",
      "19\t0.0478018\t0.946013\t0.946013\t1\t0\n",
      "20\t0.043321\t0.126103\t0.126103\t1\t0\n",
      "21\t0.0428805\t0.260781\t0.260781\t1\t0\n",
      "22\t0.0425623\t0.00609503\t0.00609503\t1\t0\n",
      "23\t0.0425571\t0.00246248\t0.00246248\t1\t0\n",
      "24\t0.0425571\t5.48345e-07\t5.48345e-07\t1\t0\n",
      "25\t0.0425571\t3.05341e-09\t3.05341e-09\t1\t0\n"
     ]
    }
   ],
   "source": [
    "elastic_rods.compute_equilibrium(l, fixedVars=list(range(jdo, jdo + 6)))\n",
    "view.update()"
   ]
  },
  {
   "cell_type": "code",
   "execution_count": 3,
   "metadata": {},
   "outputs": [],
   "source": [
    "restLinkage = elastic_rods.RodLinkage(l)\n",
    "from open_linkage import open_linkage\n",
    "def equilibriumSolver(tgtAngle, l, opts, fv):\n",
    "    opts.beta = 1e-8\n",
    "    opts.useIdentityMetric = True\n",
    "    return elastic_rods.compute_equilibrium(l, tgtAngle, options=opts, fixedVars=fv)"
   ]
  },
  {
   "cell_type": "code",
   "execution_count": 12,
   "metadata": {},
   "outputs": [
    {
     "name": "stdout",
     "output_type": "stream",
     "text": [
      "target angle:  1.6136519972625947\n",
      "0\t48.456\t5.79609\t5.79609\t1\t0\n",
      "1\t48.2964\t0.0304505\t0.0304505\t1\t0\n",
      "2\t48.2963\t0.0123867\t0.0123867\t1\t0\n",
      "3\t48.2963\t2.27093e-05\t2.27093e-05\t1\t0\n",
      "4\t48.2963\t2.94152e-08\t2.94152e-08\t0.25\t0\n",
      "5\t48.2963\t2.20899e-08\t2.20899e-08\t6.10352e-05\t0\n",
      "6\t48.2963\t2.21602e-08\t2.21602e-08\t3.05176e-05\t0\n",
      "Backtracking failed.\n",
      "6\t48.2963\t2.21602e-08\t2.21602e-08\t3.05176e-05\t0\n",
      "2.3272384778410578\t48.29630413781831\t48.29630413781831\t46.26175976285694\t1.9063909906548826\t0.1281533843065524\n",
      "target angle:  1.6267419666525522\n",
      "0\t49.6988\t5.51567\t5.51567\t1\t0\n",
      "1\t49.5507\t0.0315762\t0.0315762\t1\t0\n",
      "2\t49.5505\t0.0336956\t0.0336956\t1\t0\n",
      "3\t49.5505\t0.000194528\t0.000194528\t1\t0\n",
      "4\t49.5505\t1.3485e-06\t1.3485e-06\t0.5\t0\n",
      "5\t49.5505\t6.74116e-07\t6.74116e-07\t0.0625\t0\n",
      "6\t49.5505\t6.32266e-07\t6.32266e-07\t0.00195312\t0\n",
      "7\t49.5505\t6.30961e-07\t6.30961e-07\t0.0078125\t0\n",
      "8\t49.5505\t6.26016e-07\t6.26016e-07\t3.05176e-05\t0\n",
      "Backtracking failed.\n",
      "8\t49.5505\t6.26016e-07\t6.26016e-07\t3.05176e-05\t0\n",
      "2.338849741922749\t49.55049286671877\t49.550492866718756\t47.5048542199206\t1.9113867376428888\t0.13425190915531543\n",
      "target angle:  1.6398319360425098\n",
      "0\t50.9649\t4.96771\t4.96771\t1\t0\n",
      "1\t50.8399\t0.0197208\t0.0197208\t1\t0\n",
      "2\t50.8398\t0.0209829\t0.0209829\t1\t0\n",
      "3\t50.8398\t4.42434e-05\t4.42434e-05\t1\t0\n",
      "4\t50.8398\t8.42357e-08\t8.42357e-08\t0.0625\t0\n",
      "5\t50.8398\t7.90325e-08\t7.90325e-08\t1\t0\n",
      "6\t50.8398\t2.75347e-09\t2.75347e-09\t1\t0\n",
      "2.3517465319154516\t50.83975828107188\t50.83975828107187\t48.767873321908276\t1.9305868667798842\t0.14129809238368485\n",
      "target angle:  1.6529219054324673\n",
      "0\t52.295\t4.90123\t4.90123\t1\t0\n",
      "1\t52.1701\t0.0121095\t0.0121095\t1\t0\n",
      "2\t52.1701\t0.00652754\t0.00652754\t1\t0\n",
      "3\t52.1701\t3.20427e-06\t3.20427e-06\t1\t0\n",
      "4\t52.1701\t2.97799e-09\t2.97799e-09\t1\t0\n",
      "2.3652559280849266\t52.170074842518524\t52.170074842518524\t50.06221261785299\t1.9584235302392787\t0.1494386944262534\n",
      "target angle:  1.6660118748224249\n",
      "0\t53.6791\t5.04353\t5.04353\t1\t0\n",
      "1\t53.5455\t0.00980248\t0.00980248\t1\t0\n",
      "2\t53.5455\t0.00236086\t0.00236086\t1\t0\n",
      "3\t53.5455\t1.13957e-07\t1.13957e-07\t0.00390625\t0\n",
      "4\t53.5455\t1.13686e-07\t1.13686e-07\t3.05176e-05\t0\n",
      "Backtracking failed.\n",
      "4\t53.5455\t1.13686e-07\t1.13686e-07\t3.05176e-05\t0\n",
      "2.378708433634243\t53.54550779281733\t53.54550779281732\t51.39861789423705\t1.9882094104210128\t0.15868048815920968\n",
      "target angle:  1.6791018442123824\n",
      "0\t55.1121\t5.24784\t5.24784\t1\t0\n",
      "1\t54.9679\t0.0122399\t0.0122399\t1\t0\n",
      "2\t54.9678\t0.0255993\t0.0255993\t1\t0\n",
      "3\t54.9678\t9.91185e-05\t9.91185e-05\t1\t0\n",
      "4\t54.9678\t4.20392e-07\t4.20392e-07\t0.03125\t0\n",
      "5\t54.9678\t4.07068e-07\t4.07068e-07\t0.015625\t0\n",
      "6\t54.9678\t4.00705e-07\t4.00705e-07\t3.05176e-05\t0\n",
      "Backtracking failed.\n",
      "6\t54.9678\t4.00705e-07\t4.00705e-07\t3.05176e-05\t0\n",
      "2.3913453987795905\t54.96780693425397\t54.967806934253986\t52.787866640205635\t2.010928886453288\t0.16901140759495265\n",
      "target angle:  1.69219181360234\n",
      "0\t56.608\t5.91982\t5.91982\t1\t0\n",
      "1\t56.4342\t0.0362106\t0.0362106\t1\t0\n",
      "2\t56.4338\t0.508738\t0.508738\t1\t0\n",
      "3\t56.4328\t0.00829984\t0.00829984\t1\t0\n",
      "4\t56.4327\t0.0738305\t0.0738305\t1\t0\n",
      "5\t56.4327\t0.000276716\t0.000276716\t1\t0\n",
      "6\t56.4327\t6.4544e-05\t6.4544e-05\t1\t0\n",
      "7\t56.4327\t2.97913e-09\t2.97913e-09\t1\t0\n",
      "2.4004786483699427\t56.43268476694861\t56.43268476694861\t54.25060045216967\t2.002530602309364\t0.17955371246955248\n",
      "target angle:  1.7052817829922975\n",
      "0\t59.9817\t22.8233\t22.8233\t1\t0\n",
      "1\t57.9947\t1.14188\t1.14188\t1\t0\n",
      "2\t57.9572\t2.46488\t2.46488\t1\t0\n",
      "3\t57.9278\t0.152183\t0.152183\t1\t0\n",
      "4\t57.9274\t0.097059\t0.097059\t1\t0\n",
      "5\t57.9273\t0.00183602\t0.00183602\t1\t0\n",
      "6\t57.9273\t0.000837505\t0.000837505\t1\t0\n",
      "7\t57.9273\t1.46286e-07\t1.46286e-07\t0.25\t0\n",
      "8\t57.9273\t1.09627e-07\t1.09627e-07\t0.5\t0\n",
      "9\t57.9273\t5.49407e-08\t5.49407e-08\t3.05176e-05\t0\n",
      "Backtracking failed.\n",
      "9\t57.9273\t5.49407e-08\t5.49407e-08\t3.05176e-05\t0\n",
      "2.409552140948011\t57.92734545131583\t57.92734545131583\t55.695562843806414\t2.045336643500534\t0.18644596400887836\n",
      "target angle:  1.718371752382255\n",
      "0\t59.7384\t7.3176\t7.3176\t1\t0\n",
      "1\t59.4714\t0.0417583\t0.0417583\t1\t0\n",
      "2\t59.4708\t0.0739474\t0.0739474\t1\t0\n",
      "3\t59.4708\t0.00101015\t0.00101015\t1\t0\n",
      "4\t59.4708\t1.76939e-05\t1.76939e-05\t1\t0\n",
      "5\t59.4708\t2.9206e-09\t2.9206e-09\t1\t0\n",
      "2.4220379913239083\t59.47076476383363\t59.47076476383362\t57.15225313771595\t2.123617400029313\t0.194894226088368\n",
      "target angle:  1.7314617217722126\n",
      "0\t61.3307\t6.94439\t6.94439\t1\t0\n",
      "1\t61.0741\t0.012774\t0.012774\t1\t0\n",
      "2\t61.074\t0.00631493\t0.00631493\t1\t0\n",
      "3\t61.074\t3.25911e-06\t3.25911e-06\t1\t0\n",
      "4\t61.074\t2.76066e-09\t2.76066e-09\t1\t0\n",
      "2.4348238292522337\t61.07403217073123\t61.07403217073124\t58.663053956070975\t2.206442479315602\t0.20453573534467162\n",
      "target angle:  1.7445516911621701\n",
      "0\t63.0155\t7.10385\t7.10385\t1\t0\n",
      "1\t62.7424\t0.0109018\t0.0109018\t1\t0\n",
      "2\t62.7424\t0.00192279\t0.00192279\t1\t0\n",
      "3\t62.7424\t5.64408e-08\t5.64408e-08\t0.5\t0\n",
      "4\t62.7424\t2.83339e-08\t2.83339e-08\t0.5\t0\n",
      "5\t62.7424\t1.43449e-08\t1.43449e-08\t0.5\t0\n",
      "2.4473566434829337\t62.742413040672986\t62.74241304067298\t60.236178449425495\t2.2911632524050813\t0.21507133884248042\n",
      "target angle:  1.7576416605521277\n",
      "0\t64.7734\t7.33533\t7.33533\t1\t0\n",
      "1\t64.48\t0.0112816\t0.0112816\t1\t0\n",
      "2\t64.4799\t0.00173755\t0.00173755\t1\t0\n",
      "3\t64.4799\t7.64502e-09\t7.64502e-09\t1\t0\n",
      "2.4594489421635624\t64.47994737083671\t64.4799473708367\t61.876390607201586\t2.377197790915686\t0.22635897271938488\n",
      "target angle:  1.7707316299420852\n",
      "0\t66.6063\t7.59514\t7.59514\t1\t0\n",
      "1\t66.2902\t0.0120379\t0.0120379\t1\t0\n",
      "2\t66.2902\t0.00183228\t0.00183228\t1\t0\n",
      "3\t66.2902\t7.65925e-09\t7.65925e-09\t1\t0\n",
      "2.471021052015779\t66.29022891600266\t66.29022891600268\t63.58757503508735\t2.4643385757509826\t0.23831530516432486\n",
      "target angle:  1.7838215993320428\n",
      "0\t68.5172\t7.87268\t7.87268\t1\t0\n",
      "1\t68.1767\t0.0129237\t0.0129237\t1\t0\n",
      "2\t68.1766\t0.00191823\t0.00191823\t1\t0\n",
      "3\t68.1766\t8.29651e-09\t8.29651e-09\t1\t0\n",
      "2.4820403310094172\t68.17663684392392\t68.17663684392393\t65.37328638773344\t2.552463557660961\t0.2508868985294923\n",
      "target angle:  1.7969115687220003\n",
      "0\t70.5091\t8.16314\t8.16314\t1\t0\n",
      "1\t70.1424\t0.0138863\t0.0138863\t1\t0\n",
      "2\t70.1424\t0.00196155\t0.00196155\t1\t0\n",
      "3\t70.1424\t8.65822e-09\t8.65822e-09\t1\t0\n",
      "2.4924994233143094\t70.142418041593\t70.14241804159303\t67.23691230972065\t2.6414663159353786\t0.2640394159369851\n",
      "0\t70.1424\t8.65866e-09\t8.65866e-09\t0\t0\n"
     ]
    }
   ],
   "source": [
    "# report = open_linkage(l, driver, np.pi/2, 25, view, zPerturbationEpsilon=0, equilibriumSolver=equilibriumSolver, maxNewtonIterationsIntermediate=20, verbose=True, useTargetAngleConstraint=False);\n",
    "report = open_linkage(l, driver, np.pi/16, 15, view, zPerturbationEpsilon=0, equilibriumSolver=equilibriumSolver, maxNewtonIterationsIntermediate=20, verbose=True, useTargetAngleConstraint=True);"
   ]
  },
  {
   "cell_type": "code",
   "execution_count": null,
   "metadata": {},
   "outputs": [],
   "source": [
    "with suppress_stdout():\n",
    "    l = elastic_rods.RodLinkage(restLinkage)\n",
    "    view.update(l=l)\n",
    "    report_single = open_linkage(l, driver, np.pi/2, 400, view, zPerturbationEpsilon=0, equilibriumSolver=equilibriumSolver, maxNewtonIterationsIntermediate=50, verbose=False, useTargetAngleConstraint=False)\n",
    "    deployed_single = elastic_rods.RodLinkage(l)\n",
    "    l = elastic_rods.RodLinkage(restLinkage)\n",
    "    view.update(l=l)\n",
    "    report_global = open_linkage(l, driver, np.pi/2, 400, view, zPerturbationEpsilon=0, equilibriumSolver=equilibriumSolver, maxNewtonIterationsIntermediate=50, verbose=False, useTargetAngleConstraint=True)\n",
    "    deployed_global = elastic_rods.RodLinkage(l)"
   ]
  },
  {
   "cell_type": "code",
   "execution_count": null,
   "metadata": {},
   "outputs": [],
   "source": [
    "from matplotlib import pyplot as plt\n",
    "plt.rcParams['figure.figsize'] = [12, 6]\n",
    "plt.plot(report_single[1])\n",
    "plt.title('Single joint actuation')\n",
    "plt.ylabel('Actuation torque')\n",
    "plt.xlabel('Step')\n",
    "plt.show()\n",
    "plt.plot(report_global[1])\n",
    "plt.title('Global actuation')\n",
    "plt.ylabel('Actuation torque')\n",
    "plt.xlabel('Step')\n",
    "plt.show()"
   ]
  },
  {
   "cell_type": "code",
   "execution_count": null,
   "metadata": {},
   "outputs": [],
   "source": [
    "view_single = LinkageViewer(deployed_single)\n",
    "view_single.show()"
   ]
  },
  {
   "cell_type": "code",
   "execution_count": null,
   "metadata": {},
   "outputs": [],
   "source": [
    "view_global.setCameraParams(view_single.getCameraParams())"
   ]
  },
  {
   "cell_type": "code",
   "execution_count": null,
   "metadata": {},
   "outputs": [],
   "source": [
    "view_global = LinkageViewer(deployed_global)\n",
    "view_global.show()"
   ]
  }
 ],
 "metadata": {
  "kernelspec": {
   "display_name": "Python 3",
   "language": "python",
   "name": "python3"
  },
  "language_info": {
   "codemirror_mode": {
    "name": "ipython",
    "version": 3
   },
   "file_extension": ".py",
   "mimetype": "text/x-python",
   "name": "python",
   "nbconvert_exporter": "python",
   "pygments_lexer": "ipython3",
   "version": "3.6.6"
  }
 },
 "nbformat": 4,
 "nbformat_minor": 2
}
