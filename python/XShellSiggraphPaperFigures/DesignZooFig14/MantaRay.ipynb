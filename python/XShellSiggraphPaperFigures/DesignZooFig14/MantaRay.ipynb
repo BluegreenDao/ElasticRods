{
 "cells": [
  {
   "cell_type": "code",
   "execution_count": null,
   "metadata": {},
   "outputs": [],
   "source": [
    "import sys; sys.path.append('../..')\n",
    "import numpy as np, elastic_rods, importlib\n",
    "from bending_validation import suppress_stdout\n",
    "from linkage_vis import LinkageViewer\n",
    "from matplotlib import pyplot as plt\n",
    "\n",
    "l = elastic_rods.RodLinkage('../../../examples/florin/20181227_193550_meshID_5ca2f7ab-3602-4ede-ac4d-c2bd798b2961.obj', 8)\n",
    "#driver=166\n",
    "driver=l.centralJoint()\n",
    "\n",
    "#mat = elastic_rods.RodMaterial('+', 2000, 0.3, [5, 5, 0.7, 0.7], stiffAxis=elastic_rods.StiffAxis.D1)\n",
    "mat = elastic_rods.RodMaterial('rectangle', 20000, 0.3, [10, 7])\n",
    "l.setMaterial(mat)\n",
    "\n",
    "with suppress_stdout(): elastic_rods.restlen_solve(l)\n",
    "jdo = l.dofOffsetForJoint(driver)\n",
    "fixedVars = list(range(jdo, jdo + 6)) # fix rigid motion for a single joint\n",
    "# fixedVars.append(jdo + 6) # constrain angle at the driving joint\n",
    "with suppress_stdout(): elastic_rods.compute_equilibrium(l, fixedVars=fixedVars)\n",
    "\n",
    "view = LinkageViewer(l, width=1800, height=1024)\n",
    "view.setCameraParams(((1.8659142934419153, -1.5124515064889312, 0.7807103557642141),\n",
    " (-0.05341198874549071, -0.06751049610602136, 0.9962878561810181),\n",
    " (0.01118093987834964, 0.840952861840846, -0.4255224248686851)))\n",
    "view.show()"
   ]
  },
  {
   "cell_type": "code",
   "execution_count": null,
   "metadata": {},
   "outputs": [],
   "source": [
    "from open_linkage import open_linkage\n",
    "def equilibriumSolver(tgtAngle, l, opts, fv):\n",
    "    opts.gradTol = 1e-4\n",
    "    opts.useIdentityMetric = False\n",
    "    return elastic_rods.compute_equilibrium(l, tgtAngle, options=opts, fixedVars=fv)\n",
    "# open_linkage(l, driver, 2 * np.pi/3, 25, view, zPerturbationEpsilon=0, equilibriumSolver=equilibriumSolver, maxNewtonIterationsIntermediate=20, verbose=10, useTargetAngleConstraint=False);\n",
    "with suppress_stdout(): open_linkage(l, driver, np.deg2rad(93) - l.averageJointAngle, 10, view, zPerturbationEpsilon=0, equilibriumSolver=equilibriumSolver, maxNewtonIterationsIntermediate=20, verbose=10, useTargetAngleConstraint=True);\n",
    "#with suppress_stdout(): open_linkage(l, driver, np.deg2rad(40) - l.averageJointAngle, 10, view, zPerturbationEpsilon=0, equilibriumSolver=equilibriumSolver, maxNewtonIterationsIntermediate=20, verbose=10, useTargetAngleConstraint=True);"
   ]
  },
  {
   "cell_type": "code",
   "execution_count": null,
   "metadata": {},
   "outputs": [],
   "source": [
    "with suppress_stdout(): open_linkage(l, driver, np.deg2rad(80) - l.averageJointAngle, 10, None, zPerturbationEpsilon=0, equilibriumSolver=equilibriumSolver, maxNewtonIterationsIntermediate=20, verbose=10, useTargetAngleConstraint=True)\n",
    "view.update()"
   ]
  },
  {
   "cell_type": "code",
   "execution_count": null,
   "metadata": {},
   "outputs": [],
   "source": [
    "import compute_vibrational_modes\n",
    "fixedVarsWithoutActuator = fixedVars[:]\n",
    "# lambdas, modes = compute_vibrational_modes.compute_vibrational_modes(l, fixedVars=fixedVarsWithoutActuator, mtype=compute_vibrational_modes.MassMatrixType.FULL)\n",
    "lambdas, modes = compute_vibrational_modes.compute_vibrational_modes(l, fixedVars=[], mtype=compute_vibrational_modes.MassMatrixType.FULL, n=16, sigma=-1e-6)\n",
    "\n",
    "import mode_viewer, importlib\n",
    "importlib.reload(mode_viewer);\n",
    "mview = mode_viewer.ModeViewer(l, modes, lambdas, amplitude=5.0)\n",
    "mview.show()"
   ]
  },
  {
   "cell_type": "code",
   "execution_count": null,
   "metadata": {},
   "outputs": [],
   "source": [
    "l.saveVisualizationGeometry('deployed_meshID_bdb78930-da3e-4a28-98f5-89c2ee17876c.obj')\n",
    "#l.writeLinkageDebugData('')"
   ]
  },
  {
   "cell_type": "code",
   "execution_count": null,
   "metadata": {},
   "outputs": [],
   "source": [
    "from linkage_utils import writeRodSegments\n",
    "writeRodSegments(l,'rod_segments_meshID_1a219f3e-c853-4985-ad5f-f13b369c0e63.txt', zeroBasedIndexing=True)"
   ]
  },
  {
   "cell_type": "code",
   "execution_count": null,
   "metadata": {},
   "outputs": [],
   "source": [
    "np.savetxt('restlen_meshID_1a219f3e-c853-4985-ad5f-f13b369c0e63.txt',l.getPerSegmentRestLength())"
   ]
  },
  {
   "cell_type": "code",
   "execution_count": null,
   "metadata": {},
   "outputs": [],
   "source": [
    "np.rad2deg(l.averageJointAngle)"
   ]
  }
 ],
 "metadata": {
  "kernelspec": {
   "display_name": "Python 3",
   "language": "python",
   "name": "python3"
  },
  "language_info": {
   "codemirror_mode": {
    "name": "ipython",
    "version": 3
   },
   "file_extension": ".py",
   "mimetype": "text/x-python",
   "name": "python",
   "nbconvert_exporter": "python",
   "pygments_lexer": "ipython3",
   "version": "3.7.5"
  }
 },
 "nbformat": 4,
 "nbformat_minor": 4
}
