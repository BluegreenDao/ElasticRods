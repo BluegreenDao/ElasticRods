{
 "cells": [
  {
   "cell_type": "code",
   "execution_count": 2,
   "metadata": {},
   "outputs": [
    {
     "data": {
      "application/vnd.jupyter.widget-view+json": {
       "model_id": "b80a506772c5477482fe18885014fa5a",
       "version_major": 2,
       "version_minor": 0
      },
      "text/plain": [
       "Renderer(camera=PerspectiveCamera(aspect=2.0, children=(PointLight(color='white', intensity=0.6, position=(0.0…"
      ]
     },
     "metadata": {},
     "output_type": "display_data"
    }
   ],
   "source": [
    "import sys; sys.path.append('..')\n",
    "import numpy as np, elastic_rods\n",
    "from bending_validation import suppress_stdout\n",
    "from linkage_vis import LinkageViewer\n",
    "linkage_name = '20190603_152106_meshID_790c7704-7379-4713-a7c4-c190e4060571'\n",
    "l = elastic_rods.RodLinkage('../../examples/florin/{}.obj'.format(linkage_name), 8)\n",
    "#driver=166\n",
    "driver=l.centralJoint()\n",
    "\n",
    "#mat = elastic_rods.RodMaterial('+', 2000, 0.3, [5, 5, 0.7, 0.7], stiffAxis=elastic_rods.StiffAxis.D1)\n",
    "mat = elastic_rods.RodMaterial('rectangle', 20000, 0.3, [8, 12])\n",
    "l.setMaterial(mat)\n",
    "\n",
    "with suppress_stdout(): elastic_rods.restlen_solve(l)\n",
    "jdo = l.dofOffsetForJoint(driver)\n",
    "fixedVars = list(range(jdo, jdo + 6)) # fix rigid motion for a single joint\n",
    "fixedVars.append(jdo + 6) # constrain angle at the driving joint\n",
    "with suppress_stdout(): elastic_rods.compute_equilibrium(l, fixedVars=fixedVars)\n",
    "\n",
    "view = LinkageViewer(l, width=1024)\n",
    "#view.setCameraParams(((2.656451698624758, 1.5087349593639046, 0.23168476156681694),\n",
    "# (0.052583904614345374, 0.026224725204501566, 0.9982721055721517),\n",
    "# (0.13680349418553736, -0.13680349418553736, -0.8425278443781967)))\n",
    "view.show()"
   ]
  },
  {
   "cell_type": "code",
   "execution_count": 5,
   "metadata": {},
   "outputs": [],
   "source": [
    "l.saveVisualizationGeometry('deployed_{}.obj'.format(linkage_name))\n",
    "#l.writeLinkageDebugData('')"
   ]
  },
  {
   "cell_type": "code",
   "execution_count": 17,
   "metadata": {},
   "outputs": [],
   "source": [
    "from write_render_files import writeRenderFiles, writeActuators\n",
    "writeRenderFiles(l, 'Pavilion21', 'pav21')\n",
    "#writeActuators(l, np.where(torques > 1e-4)[0], directory='AsymPointyDataFlat', name='asymPointy_Fab')"
   ]
  },
  {
   "cell_type": "code",
   "execution_count": 10,
   "metadata": {},
   "outputs": [],
   "source": [
    "from linkage_utils import writeRodSegments\n",
    "writeRodSegments(l,'rod_segments_{}.txt'.format(linkage_name), zeroBasedIndexing=True)\n",
    "np.savetxt('restlen_{}.txt'.format(linkage_name),l.getPerSegmentRestLength())\n",
    "np.savetxt('normals_{}.txt'.format(linkage_name), np.array([j.normal for j in l.joints()]))\n",
    "l.writeLinkageDebugData('deployed_{}.msh'.format(linkage_name))"
   ]
  },
  {
   "cell_type": "code",
   "execution_count": 41,
   "metadata": {
    "collapsed": true,
    "jupyter": {
     "outputs_hidden": true
    }
   },
   "outputs": [
    {
     "data": {
      "text/plain": [
       "24.37145054902055"
      ]
     },
     "execution_count": 41,
     "metadata": {},
     "output_type": "execute_result"
    }
   ],
   "source": [
    "# Compute maximum \"stress\" appearing at any rod vertex in the structure\n",
    "max([max(segmentStress) for segmentStress in l.rodStresses()[1]])"
   ]
  },
  {
   "cell_type": "code",
   "execution_count": null,
   "metadata": {},
   "outputs": [],
   "source": [
    "# Output actuation torque\n",
    "for forceScale in np.linspace(1.0, 0, 51):\n",
    "    name = 'Pavilion14_{}'.format(forceScale)\n",
    "    with suppress_stdout(): elastic_rods.compute_equilibrium(l, forceScale * externalForces, fixedVars=fixedVars)\n",
    "    view.update(preserveExisting=True)\n",
    "    writeRenderFiles(l, directory, name)\n",
    "    writeActuators(l, np.where(torques > 0.1)[0], directory, name)"
   ]
  },
  {
   "cell_type": "code",
   "execution_count": 44,
   "metadata": {
    "collapsed": true,
    "jupyter": {
     "outputs_hidden": true
    }
   },
   "outputs": [
    {
     "data": {
      "text/plain": [
       "11.81760497978405"
      ]
     },
     "execution_count": 44,
     "metadata": {},
     "output_type": "execute_result"
    }
   ],
   "source": [
    "# Compute average \"stress\" appearing over all rod vertices in the structure\n",
    "np.mean(sum(l.rodStresses()[1], []))"
   ]
  },
  {
   "cell_type": "code",
   "execution_count": 3,
   "metadata": {},
   "outputs": [
    {
     "name": "stdout",
     "output_type": "stream",
     "text": [
      "target angle:  1.1197401311115107\n",
      "0\t1.07334e+06\t91608\t91608\t1\t0\n",
      "10\t765102\t2186.46\t2186.46\t1\t0\n",
      "20\t763516\t892.154\t892.154\t1\t0\n",
      "2.9783043175556005\t763516.2978741741\t763516.2978741741\t687460.6748610358\t75414.83240810737\t640.7906050301449\n",
      "target angle:  1.136069152460128\n",
      "0\t771359\t18563.3\t18563.3\t1\t0\n",
      "10\t763378\t1205.52\t1205.52\t1\t0\n",
      "20\t762083\t1923.56\t1923.56\t1\t0\n",
      "3.3199329521683105\t762083.0308869592\t762083.030886959\t685807.2933362339\t75605.12523811465\t670.6123126109907\n",
      "target angle:  1.1523981738087454\n",
      "0\t765416\t7649.93\t7649.93\t1\t0\n",
      "10\t763020\t190.183\t190.183\t0.25\t0\n",
      "20\t762144\t1285.61\t1285.61\t0.5\t0\n",
      "3.4028761293603744\t762144.0456594746\t762144.0456594746\t684629.2355198129\t76942.48719346941\t572.3229461919009\n",
      "target angle:  1.1687271951573628\n",
      "0\t766034\t6488.24\t6488.24\t1\t0\n",
      "10\t764507\t857.88\t857.88\t1\t0\n",
      "20\t763935\t832.611\t832.611\t1\t0\n",
      "3.4466716584157573\t763934.8750464732\t763934.8750464733\t684483.2202573617\t78935.80009420401\t515.8546949072064\n",
      "target angle:  1.1850562165059801\n",
      "0\t769030\t6901.92\t6901.92\t1\t0\n",
      "10\t767662\t319.088\t319.088\t0.5\t0\n",
      "20\t767367\t384.434\t384.434\t1\t0\n",
      "3.4782900162456847\t767367.3862580445\t767367.3862580445\t685489.4115155115\t81401.09852226831\t476.87622026473724\n",
      "target angle:  1.2013852378545975\n",
      "0\t773928\t7930.18\t7930.18\t1\t0\n",
      "10\t772421\t68.3192\t68.3192\t0.25\t0\n",
      "20\t772309\t117.145\t117.145\t1\t0\n",
      "3.504017968692627\t772308.5961642883\t772308.5961642886\t687662.9874380812\t84190.42353221263\t455.1851939940144\n",
      "target angle:  1.2177142592032149\n",
      "0\t780556\t9248.15\t9248.15\t1\t0\n",
      "10\t778661\t98.8903\t98.8903\t1\t0\n",
      "20\t778646\t83.6128\t83.6128\t1\t0\n",
      "3.5261544996519563\t778645.6420102458\t778645.6420102457\t691030.9358001499\t87171.55357989471\t443.1526302012257\n",
      "target angle:  1.2340432805518322\n",
      "0\t787256\t7052.76\t7052.76\t1\t0\n",
      "10\t786246\t0.000687545\t0.000687545\t0.000976562\t0\n",
      "Backtracking failed.\n",
      "3.545775257504009\t786245.5196321845\t786245.5196321844\t695646.7243646747\t90163.18807025562\t435.60719725422234\n",
      "target angle:  1.2503723019004496\n",
      "0\t796044\t6966.06\t6966.06\t1\t0\n",
      "3.5651227850408707\t795064.666474914\t795064.6664749137\t701336.0946612719\t93294.35090300512\t434.2209106366526\n",
      "target angle:  1.266701323249067\n",
      "0\t805981\t6616.5\t6616.5\t1\t0\n",
      "3.5844995291790944\t805111.8819249904\t805111.8819249903\t708001.6266314142\t96671.46616354294\t438.7891300330959\n",
      "target angle:  1.2830303445976843\n",
      "0\t817088\t6216.37\t6216.37\t1\t0\n",
      "3.603989749321081\t816350.792446532\t816350.792446532\t715428.1504287861\t100474.1023318958\t448.5396858502032\n",
      "target angle:  1.2993593659463016\n",
      "0\t829417\t6900.69\t6900.69\t1\t0\n",
      "3.6240491702884023\t828619.0843554433\t828619.0843554434\t723029.2451322064\t105131.37616414159\t458.4630590957055\n",
      "target angle:  1.315688387294919\n",
      "0\t844934\t15341.9\t15341.9\t1\t0\n",
      "3.6463950072858484\t841491.1170042029\t841491.1170042029\t730042.1914540991\t110991.63852712266\t457.2870229815787\n",
      "target angle:  1.3320174086435363\n",
      "0\t862187\t23029.5\t23029.5\t1\t0\n",
      "Backtracking failed.\n",
      "3.671110503847118\t854582.2456250462\t854582.2456250463\t737168.4713183717\t116962.42632207845\t451.3479845955279\n",
      "target angle:  1.3483464299921537\n",
      "0\t871950\t16649.5\t16649.5\t1\t0\n",
      "3.6964209166340516\t867926.7900287744\t867926.7900287745\t744975.8671495381\t122500.4708201335\t450.4520591025679\n",
      "target angle:  1.364675451340771\n",
      "0\t883971\t12584\t12584\t1\t0\n",
      "3.7217452454992688\t881656.8062357479\t881656.8062357479\t753474.1769185691\t127727.56757943633\t455.06173774254415\n",
      "target angle:  1.3810044726893884\n",
      "0\t897540\t10646.4\t10646.4\t1\t0\n",
      "3.746983016496761\t895875.0161565016\t895875.0161565014\t762650.1342988537\t132760.54557580882\t464.33628183873384\n",
      "target angle:  1.3973334940380058\n",
      "0\t912037\t9660.55\t9660.55\t1\t0\n",
      "3.772132220291546\t910659.4259083181\t910659.425908318\t772512.1543703682\t137669.618379003\t477.65315894752166\n",
      "target angle:  1.4136625153866231\n",
      "0\t927312\t9131.81\t9131.81\t1\t0\n",
      "3.7972109493947945\t926073.776848073\t926073.7768480729\t783081.1715169331\t142497.97244907985\t494.6328820595329\n",
      "target angle:  1.4299915367352405\n",
      "0\t943343\t8847.88\t8847.88\t1\t0\n",
      "3.822240227934782\t942173.932426278\t942173.9324262779\t794385.0054551027\t147273.86210904157\t515.0648621343045\n",
      "target angle:  1.4463205580838578\n",
      "0\t960150\t8708.46\t8708.46\t1\t0\n",
      "3.8472401905433635\t959011.631102158\t959011.631102158\t806455.8358160065\t152016.94003128348\t538.8552548679903\n",
      "target angle:  1.4626495794324752\n",
      "0\t977768\t8661.91\t8661.91\t1\t0\n",
      "Backtracking failed.\n",
      "3.8722295417079864\t976636.7966634814\t976636.7966634813\t819329.0836356853\t156741.71765763877\t565.9953701563071\n",
      "target angle:  1.4789786007810926\n",
      "0\t996241\t8679.83\t8679.83\t1\t0\n",
      "3.897225864010304\t995099.0435561576\t995099.0435561577\t833042.9031285767\t161459.597914945\t596.5425126363602\n",
      "target angle:  1.49530762212971\n",
      "0\t1.01561e+06\t8745.59\t8745.59\t1\t0\n",
      "3.922245954562226\t1014448.711883712\t1014448.7118837119\t847637.927163434\t166180.17666385547\t630.6080564215731\n",
      "target angle:  1.5116366434783273\n",
      "0\t1.03594e+06\t8849.43\t8849.43\t1\t0\n",
      "Backtracking failed.\n",
      "3.9473062348680155\t1034737.6131561595\t1034737.6131561594\t863157.1181823594\t170912.1454359645\t668.3495378354228\n",
      "target angle:  1.5279656648269446\n",
      "0\t1.05726e+06\t8985.32\t8985.32\t1\t0\n",
      "3.9724229940944102\t1056019.5876291757\t1056019.5876291757\t879645.6323209067\t175663.990274271\t709.9650339981306\n",
      "target angle:  1.544294686175562\n",
      "0\t1.07965e+06\t9149.52\t9149.52\t1\t0\n",
      "3.9976124364532057\t1078350.929722157\t1078350.929722157\t897150.6469519068\t180444.59414312066\t755.688627130498\n",
      "target angle:  1.5606237075241793\n",
      "0\t1.10315e+06\t9340.13\t9340.13\t1\t0\n",
      "4.0228907693217995\t1101790.711657224\t1101790.7116572238\t915721.1262700524\t185263.7995399788\t805.7858471927943\n",
      "target angle:  1.5769527288727967\n",
      "0\t1.12784e+06\t9556.11\t9556.11\t1\t0\n",
      "4.048273959129927\t1126401.0183023205\t1126401.0183023205\t935407.4742356031\t190132.99559511463\t860.5484716023744\n",
      "target angle:  1.593281750221414\n",
      "0\t1.15378e+06\t9797.49\t9797.49\t1\t0\n",
      "Backtracking failed.\n",
      "4.073777450016708\t1152247.0936568743\t1152247.0936568747\t956261.0576792066\t195065.7484544367\t920.2875232318144\n",
      "target angle:  1.6096107715700314\n",
      "0\t1.18103e+06\t10065\t10065\t1\t0\n",
      "4.09941564113754\t1179397.3890034365\t1179397.3890034365\t978333.5617087712\t200078.50383678108\t985.323457884768\n",
      "target angle:  1.6259397929186488\n",
      "0\t1.20967e+06\t10359.9\t10359.9\t1\t0\n",
      "4.125201016467718\t1207923.4931822869\t1207923.4931822869\t1001676.1568709825\t205191.3640954388\t1055.9722158659538\n",
      "target angle:  1.6422688142672661\n",
      "0\t1.23978e+06\t10684.7\t10684.7\t1\t0\n",
      "4.1511431513663615\t1237899.9165126511\t1237899.9165126511\t1026338.5114032659\t210428.87983351483\t1132.5252758696647\n",
      "target angle:  1.6585978356158835\n",
      "0\t1.27144e+06\t11042.9\t11042.9\t1\t0\n",
      "4.17724732258538\t1269403.6930118399\t1269403.6930118399\t1052367.742527181\t215820.72819576017\t1215.2222888989643\n",
      "target angle:  1.6749268569645008\n",
      "0\t1.30473e+06\t11439.4\t11439.4\t1\t0\n",
      "4.203513042095931\t1302513.7654666002\t1302513.7654666002\t1079807.606005299\t221401.94406893943\t1304.2153923612645\n",
      "target angle:  1.6912558783131182\n",
      "0\t1.33974e+06\t11881.4\t11881.4\t1\t0\n",
      "4.229932886774039\t1337310.1354839357\t1337310.135483936\t1108698.530311051\t227212.0775025196\t1399.527670365163\n",
      "target angle:  1.7075848996617355\n",
      "0\t1.37655e+06\t12378.5\t12378.5\t1\t0\n",
      "4.256492556934926\t1373872.8157633552\t1373872.8157633552\t1139079.5299367127\t233292.27004183843\t1501.0157848030667\n",
      "target angle:  1.723913921010353\n",
      "0\t1.41524e+06\t12941.1\t12941.1\t1\t0\n",
      "4.283173645145002\t1412280.738366309\t1412280.738366309\t1170993.2510779274\t239679.12730625324\t1608.3599821268933\n",
      "target angle:  1.7402429423589703\n",
      "0\t1.45591e+06\t13575.8\t13575.8\t1\t0\n",
      "4.309960506099884\t1452610.946932751\t1452610.9469327508\t1204494.586727329\t246395.24317334744\t1721.1170320738336\n",
      "target angle:  1.7565719637075876\n",
      "0\t1.49862e+06\t14276.6\t14276.6\t1\t0\n",
      "4.336850594273136\t1494938.5318002552\t1494938.5318002554\t1239660.5561522872\t253439.11456161388\t1838.8610863556428\n",
      "target angle:  1.772900985056205\n",
      "0\t1.54343e+06\t15018.4\t15018.4\t1\t0\n",
      "4.363863592937243\t1539337.6308946856\t1539337.6308946856\t1276595.6635141643\t260780.58710752154\t1961.3802729998395\n",
      "target angle:  1.7892300064048223\n",
      "0\t1.5904e+06\t15765.3\t15765.3\t1\t0\n",
      "4.39104249304404\t1585883.2863641377\t1585883.2863641377\t1315427.3673082201\t268367.0950524053\t2088.8240035115095\n",
      "target angle:  1.8055590277534397\n",
      "0\t1.63957e+06\t16492\t16492\t1\t0\n",
      "4.418444263036258\t1634653.349348737\t1634653.3493487367\t1356293.0225141174\t276138.62415091746\t2221.7026837027074\n",
      "target angle:  1.821888049102057\n",
      "0\t1.69103e+06\t17197.6\t17197.6\t1\t0\n",
      "4.446125475834434\t1685729.5622204253\t1685729.5622204253\t1399326.0288126192\t284042.7840307024\t2360.7493771037634\n",
      "target angle:  1.8382170704506744\n",
      "0\t1.74486e+06\t17900.2\t17900.2\t1\t0\n",
      "4.474130395714569\t1739197.4810172492\t1739197.4810172494\t1444647.5513224523\t292043.1887171222\t2506.740977674495\n",
      "target angle:  1.8545460917992918\n",
      "0\t1.80116e+06\t18621.6\t18621.6\t1\t0\n",
      "4.502484744063879\t1795145.4636368696\t1795145.4636368696\t1492364.3322638064\t300120.7694497382\t2660.3619233249765\n",
      "target angle:  1.870875113147909\n",
      "0\t1.86004e+06\t19378.4\t19378.4\t1\t0\n",
      "4.531194006564387\t1853663.1382283173\t1853663.138228317\t1542569.708931231\t308271.2975218305\t2822.1317752557998\n",
      "target angle:  1.8872041344965265\n",
      "0\t1.92159e+06\t20180.7\t20180.7\t1\t0\n",
      "4.560243941312237\t1914839.6647549463\t1914839.6647549467\t1595345.1215553824\t316502.163535727\t2992.37966383741\n",
      "target angle:  1.9035331558451438\n",
      "0\t1.98589e+06\t21034.5\t21034.5\t1\t0\n",
      "4.58960167318896\t1978761.9398234608\t1978761.9398234608\t1650760.7338757776\t324829.9633392458\t3171.242608438747\n",
      "target angle:  1.9198621771937612\n",
      "0\t2.05304e+06\t21945.3\t21945.3\t1\t0\n",
      "4.61921674006601\t2045512.7863359721\t2045512.786335972\t1708874.7687961615\t333279.3455132158\t3358.6720265932436\n",
      "0\t2.04551e+06\t1.92323e-05\t1.92323e-05\t0\t0\n"
     ]
    }
   ],
   "source": [
    "from open_linkage import open_linkage\n",
    "def equilibriumSolver(tgtAngle, l, opts, fv):\n",
    "    opts.beta = 1e-8\n",
    "    opts.gradTol = 1e-4\n",
    "    opts.useIdentityMetric = False\n",
    "    return elastic_rods.compute_equilibrium(l, tgtAngle, options=opts, fixedVars=fv)\n",
    "# open_linkage(l, driver, 2 * np.pi/3, 25, view, zPerturbationEpsilon=0, equilibriumSolver=equilibriumSolver, maxNewtonIterationsIntermediate=20, verbose=10, useTargetAngleConstraint=False);\n",
    "open_linkage(l, driver, np.deg2rad(110) - l.averageJointAngle, 50, view, zPerturbationEpsilon=0, equilibriumSolver=equilibriumSolver, maxNewtonIterationsIntermediate=20, verbose=10, useTargetAngleConstraint=True);"
   ]
  },
  {
   "cell_type": "code",
   "execution_count": null,
   "metadata": {},
   "outputs": [],
   "source": []
  },
  {
   "cell_type": "code",
   "execution_count": null,
   "metadata": {},
   "outputs": [],
   "source": []
  }
 ],
 "metadata": {
  "kernelspec": {
   "display_name": "Python 3",
   "language": "python",
   "name": "python3"
  },
  "language_info": {
   "codemirror_mode": {
    "name": "ipython",
    "version": 3
   },
   "file_extension": ".py",
   "mimetype": "text/x-python",
   "name": "python",
   "nbconvert_exporter": "python",
   "pygments_lexer": "ipython3",
   "version": "3.7.5"
  }
 },
 "nbformat": 4,
 "nbformat_minor": 4
}
