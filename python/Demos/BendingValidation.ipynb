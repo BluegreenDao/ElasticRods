{
 "cells": [
  {
   "cell_type": "markdown",
   "metadata": {},
   "source": [
    "# Bending Validation\n",
    "This notebook compares the deformations and forces computed by the discrete elastic rods model in a planar, pure bending scenario against the analytical solution of the Euler-Bernoulli equation."
   ]
  },
  {
   "cell_type": "code",
   "execution_count": null,
   "metadata": {},
   "outputs": [],
   "source": [
    "import sys\n",
    "sys.path.append('..')\n",
    "from bending_validation import *\n",
    "from ipywidgets import interact, interactive, fixed, interact_manual\n",
    "import ipywidgets as widgets"
   ]
  },
  {
   "cell_type": "code",
   "execution_count": null,
   "metadata": {},
   "outputs": [],
   "source": [
    "iplot = interactive(runTestVisualization,\n",
    "                    L=fixed(1),\n",
    "                    a=widgets.FloatSlider(min=0.01, max=1, value=0.5, step=0.01),\n",
    "                    numVertices=widgets.IntSlider(min=3,max=100,step=2,value=41),\n",
    "                    gradTol=fixed(1e-12))\n",
    "iplot.children[-1].layout.height = '450px'\n",
    "display(iplot)"
   ]
  },
  {
   "cell_type": "code",
   "execution_count": null,
   "metadata": {},
   "outputs": [],
   "source": [
    "t = time.time()\n",
    "convergenceTest(0.6, 300, 1e-11)\n",
    "print(time.time() - t)"
   ]
  },
  {
   "cell_type": "code",
   "execution_count": null,
   "metadata": {},
   "outputs": [],
   "source": [
    "from PlanarElastica import AnalyticRod\n",
    "arod = AnalyticRod(1, 0.5)\n",
    "arod.height() # correct to 15 digits compared to Mathematica implementation..."
   ]
  }
 ],
 "metadata": {
  "kernelspec": {
   "display_name": "Python 3",
   "language": "python",
   "name": "python3"
  },
  "language_info": {
   "codemirror_mode": {
    "name": "ipython",
    "version": 3
   },
   "file_extension": ".py",
   "mimetype": "text/x-python",
   "name": "python",
   "nbconvert_exporter": "python",
   "pygments_lexer": "ipython3",
   "version": "3.7.5"
  }
 },
 "nbformat": 4,
 "nbformat_minor": 4
}
